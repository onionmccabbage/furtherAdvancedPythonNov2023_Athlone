{
 "cells": [
  {
   "cell_type": "markdown",
   "id": "badcae77",
   "metadata": {},
   "source": [
    "## Introducing Numpy"
   ]
  },
  {
   "cell_type": "code",
   "execution_count": 24,
   "id": "c3f71765",
   "metadata": {},
   "outputs": [
    {
     "data": {
      "text/plain": [
       "0.2857142857142857"
      ]
     },
     "execution_count": 24,
     "metadata": {},
     "output_type": "execute_result"
    }
   ],
   "source": [
    "# we can run cells with ctrl-enter or shift-enter\n",
    "a=2\n",
    "b=7\n",
    "a/b"
   ]
  },
  {
   "cell_type": "code",
   "execution_count": 21,
   "id": "7483e329",
   "metadata": {},
   "outputs": [
    {
     "data": {
      "text/plain": [
       "3.0"
      ]
     },
     "execution_count": 21,
     "metadata": {},
     "output_type": "execute_result"
    }
   ],
   "source": [
    "b=99\n",
    "a=33\n",
    "b/a"
   ]
  },
  {
   "cell_type": "code",
   "execution_count": 26,
   "id": "392ea608",
   "metadata": {},
   "outputs": [
    {
     "data": {
      "text/plain": [
       "18"
      ]
     },
     "execution_count": 26,
     "metadata": {},
     "output_type": "execute_result"
    }
   ],
   "source": [
    "b**a\n",
    "def fn(n,m):\n",
    "    return n*2+m*2\n",
    "fn(a,b)"
   ]
  },
  {
   "cell_type": "code",
   "execution_count": 27,
   "id": "43770c77",
   "metadata": {},
   "outputs": [],
   "source": [
    "# import the required libraries for Data Analysis\n",
    "import numpy as np # convention\n",
    "import pandas as pd\n",
    "import matplotlib.pyplot as plt"
   ]
  },
  {
   "cell_type": "markdown",
   "id": "464bd281",
   "metadata": {},
   "source": [
    "* Numeric Python is a library for managing large data sets"
   ]
  },
  {
   "cell_type": "code",
   "execution_count": 33,
   "id": "7c7b49e1",
   "metadata": {},
   "outputs": [
    {
     "data": {
      "text/plain": [
       "array([ 3. ,  3.5,  4. ,  4.5,  5. ,  5.5,  6. ,  6.5,  7. ,  7.5,  8. ,\n",
       "        8.5,  9. ,  9.5, 10. , 10.5, 11. , 11.5, 12. ])"
      ]
     },
     "execution_count": 33,
     "metadata": {},
     "output_type": "execute_result"
    }
   ],
   "source": [
    "# numpy provides additional data structures\n",
    "# array range. start, stop-before, step\n",
    "n = np.arange(3.0, 12.5, 0.5) # only one data type permitted at a time\n",
    "n\n",
    "# n.dtype"
   ]
  },
  {
   "cell_type": "code",
   "execution_count": 36,
   "id": "15ef3e76",
   "metadata": {},
   "outputs": [
    {
     "data": {
      "text/plain": [
       "(2, 3)"
      ]
     },
     "execution_count": 36,
     "metadata": {},
     "output_type": "execute_result"
    }
   ],
   "source": [
    "# Numpy also offers an array structure\n",
    "#                 (rows, columns)\n",
    "d = np.random.randn(2, 3) # we have an array \n",
    "d.dtype\n",
    "d.shape"
   ]
  },
  {
   "cell_type": "code",
   "execution_count": 43,
   "id": "6abd0744",
   "metadata": {},
   "outputs": [
    {
     "data": {
      "text/plain": [
       "(5, 6, 3)"
      ]
     },
     "execution_count": 43,
     "metadata": {},
     "output_type": "execute_result"
    }
   ],
   "source": [
    "# there is no (practical) limit to the array size or dimensions\n",
    "e = np.random.randn(9,5)\n",
    "e # we havea 2-d array\n",
    "f = np.random.randn(5,6,3) # we can have multi-dimensional arrays\n",
    "f.shape"
   ]
  },
  {
   "cell_type": "code",
   "execution_count": 58,
   "id": "aa650fd9",
   "metadata": {},
   "outputs": [
    {
     "data": {
      "text/plain": [
       "array([[0., 0., 0., 0.],\n",
       "       [0., 0., 0., 0.],\n",
       "       [0., 0., 0., 0.],\n",
       "       [0., 0., 0., 0.]])"
      ]
     },
     "execution_count": 58,
     "metadata": {},
     "output_type": "execute_result"
    }
   ],
   "source": [
    "# creating arrays\n",
    "g = np.empty( (4,4) ) # create an in-memory array\n",
    "g = np.zeros( (4,4) ) # ...also set to zero\n",
    "g.dtype\n",
    "g"
   ]
  },
  {
   "cell_type": "code",
   "execution_count": 65,
   "id": "a291525e",
   "metadata": {},
   "outputs": [
    {
     "data": {
      "text/plain": [
       "dtype('<U32')"
      ]
     },
     "execution_count": 65,
     "metadata": {},
     "output_type": "execute_result"
    }
   ],
   "source": [
    "s = d.astype(np.str_) # this is numpy syntax\n",
    "s\n",
    "s.dtype"
   ]
  },
  {
   "cell_type": "code",
   "execution_count": 71,
   "id": "58698ded",
   "metadata": {},
   "outputs": [
    {
     "data": {
      "text/plain": [
       "array([[[-2,  0,  1,  0,  1],\n",
       "        [ 0,  0,  1,  0, -1],\n",
       "        [ 0,  2,  0, -1,  1],\n",
       "        [ 0,  0, -1,  0,  0],\n",
       "        [-1,  0,  1,  0,  0],\n",
       "        [-1,  1,  0,  0,  0]],\n",
       "\n",
       "       [[ 0,  0,  0,  0,  0],\n",
       "        [ 0,  1,  0,  0,  0],\n",
       "        [ 0,  0, -1,  0,  0],\n",
       "        [ 1,  0,  0, -1,  1],\n",
       "        [ 0,  2,  0,  0,  0],\n",
       "        [ 0,  0,  0, -2,  0]],\n",
       "\n",
       "       [[ 1,  0,  1, -1,  1],\n",
       "        [ 0,  0,  0, -2, -1],\n",
       "        [ 0,  0,  0,  1,  0],\n",
       "        [ 0, -1, -2,  0,  1],\n",
       "        [ 0,  0,  0, -1,  0],\n",
       "        [ 1,  0, -1, -1, -1]]])"
      ]
     },
     "execution_count": 71,
     "metadata": {},
     "output_type": "execute_result"
    }
   ],
   "source": [
    "i = f.astype(np.int32) # typically we use int32 or int64\n",
    "i.T # transform (switch rows with columns)"
   ]
  },
  {
   "cell_type": "markdown",
   "id": "f4fdaf13",
   "metadata": {},
   "source": [
    "### Calculations with Arrays"
   ]
  },
  {
   "cell_type": "code",
   "execution_count": 80,
   "id": "02d4557b",
   "metadata": {},
   "outputs": [],
   "source": [
    "x = np.random.randn(3,3,3)\n",
    "z = np.zeros((3,3,3))"
   ]
  },
  {
   "cell_type": "code",
   "execution_count": 93,
   "id": "f84b5a3a",
   "metadata": {},
   "outputs": [
    {
     "data": {
      "text/plain": [
       "array([[[  1.24130184,   1.81193161,   3.03897297],\n",
       "        [  9.46425742,   2.98947475,   1.96498897],\n",
       "        [ 13.98807297,   2.40916705, 545.86397698]],\n",
       "\n",
       "       [[ 16.54158823,  60.30794564,   1.5103972 ],\n",
       "        [  1.33003142,  14.73894902,   2.31771987],\n",
       "        [  1.42163696,   1.04301179,   1.7949359 ]],\n",
       "\n",
       "       [[  3.44085995,  16.95434915,   4.87356068],\n",
       "        [  1.37757347,   2.28580248,   2.61881735],\n",
       "        [  3.45891602,   5.3437246 ,   2.40783378]]])"
      ]
     },
     "execution_count": 93,
     "metadata": {},
     "output_type": "execute_result"
    }
   ],
   "source": [
    "z+3 # most operations do NOT alter the orignal structure\n",
    "# generaly complex calculations on collections of values are MUCH faster in Numpy than Python\n",
    "abs((z+3)/(x*2)) # numpy calculations are VERY performant"
   ]
  },
  {
   "cell_type": "markdown",
   "id": "4102c73d",
   "metadata": {},
   "source": [
    "### Accessing Members of Arrays"
   ]
  },
  {
   "cell_type": "code",
   "execution_count": 98,
   "id": "3c0843d1",
   "metadata": {},
   "outputs": [
    {
     "data": {
      "text/plain": [
       "array([[ 0.72645685,  0.31342091, -1.60187963],\n",
       "       [ 0.50862746, -1.13172095, -2.1756225 ]])"
      ]
     },
     "execution_count": 98,
     "metadata": {},
     "output_type": "execute_result"
    }
   ],
   "source": [
    "d"
   ]
  },
  {
   "cell_type": "code",
   "execution_count": 112,
   "id": "f6eb31ab",
   "metadata": {},
   "outputs": [
    {
     "data": {
      "text/plain": [
       "array([[ 0.73934176,  1.25732058, -0.05883049, -0.85621263,  0.62987335],\n",
       "       [ 0.83457172,  1.56035219,  0.32841965,  0.81833634,  0.31981554]])"
      ]
     },
     "execution_count": 112,
     "metadata": {},
     "output_type": "execute_result"
    }
   ],
   "source": [
    "d[1][1] # the item at 1,1\n",
    "d[0:1] # slicing is start:stop-before:step\n",
    "e[1:4:2] # [1:3]"
   ]
  },
  {
   "cell_type": "code",
   "execution_count": 114,
   "id": "cfc1b3a4",
   "metadata": {},
   "outputs": [
    {
     "data": {
      "text/plain": [
       "array([[ 0.50862746, -1.13172095, -2.1756225 ],\n",
       "       [ 0.72645685,  0.31342091, -1.60187963]])"
      ]
     },
     "execution_count": 114,
     "metadata": {},
     "output_type": "execute_result"
    }
   ],
   "source": [
    "d[::-1] # we can show reverse"
   ]
  },
  {
   "cell_type": "code",
   "execution_count": 116,
   "id": "524973e2",
   "metadata": {},
   "outputs": [
    {
     "data": {
      "text/plain": [
       "array([[ 1.        ,  1.        ,  1.        ],\n",
       "       [ 0.50862746,  0.        , -2.1756225 ]])"
      ]
     },
     "execution_count": 116,
     "metadata": {},
     "output_type": "execute_result"
    }
   ],
   "source": [
    "# we can assign values\n",
    "d[1,1]=0 # this DOES alter the original structure\n",
    "d[0]=1\n",
    "d"
   ]
  },
  {
   "cell_type": "code",
   "execution_count": null,
   "id": "b619f605",
   "metadata": {},
   "outputs": [],
   "source": []
  }
 ],
 "metadata": {
  "kernelspec": {
   "display_name": "Python 3 (ipykernel)",
   "language": "python",
   "name": "python3"
  },
  "language_info": {
   "codemirror_mode": {
    "name": "ipython",
    "version": 3
   },
   "file_extension": ".py",
   "mimetype": "text/x-python",
   "name": "python",
   "nbconvert_exporter": "python",
   "pygments_lexer": "ipython3",
   "version": "3.9.12"
  }
 },
 "nbformat": 4,
 "nbformat_minor": 5
}
