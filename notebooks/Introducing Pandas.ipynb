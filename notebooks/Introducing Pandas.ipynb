{
 "cells": [
  {
   "cell_type": "markdown",
   "id": "a7afe925",
   "metadata": {},
   "source": [
    "## Pandas for Data Analysis\n",
    "Numpy and Pandas work together to offer performant tools for Data Analysis"
   ]
  },
  {
   "cell_type": "code",
   "execution_count": 1,
   "id": "06d3ea99",
   "metadata": {},
   "outputs": [],
   "source": [
    "# we normally import at the top\n",
    "import numpy as np # this provides array and arange\n",
    "import pandas as pd # provides series and data frame"
   ]
  },
  {
   "cell_type": "code",
   "execution_count": 6,
   "id": "bff7d566",
   "metadata": {},
   "outputs": [
    {
     "data": {
      "text/plain": [
       "0     8.0\n",
       "1     7.0\n",
       "2    -5.0\n",
       "3     3.0\n",
       "4    99.0\n",
       "dtype: float64"
      ]
     },
     "execution_count": 6,
     "metadata": {},
     "output_type": "execute_result"
    }
   ],
   "source": [
    "# Pandas provides a series data structure\n",
    "l = [8.0, 7, -5, 3, 99] # a list\n",
    "m = ['a', 'b', 'c', 'd']\n",
    "o = pd.Series(l)\n",
    "p = pd.Series(m)\n",
    "o # a Series is a mutable indexed collection of a single data type\n",
    "p\n",
    "o.values # a numpy array\n",
    "o.index  # a range\n",
    "o # all Series will have an index"
   ]
  },
  {
   "cell_type": "code",
   "execution_count": 27,
   "id": "43a8bec8",
   "metadata": {},
   "outputs": [
    {
     "data": {
      "text/plain": [
       "b    6\n",
       "a    3\n",
       "c    9\n",
       "e    6\n",
       "d    2\n",
       "g    5\n",
       "dtype: int64"
      ]
     },
     "execution_count": 27,
     "metadata": {},
     "output_type": "execute_result"
    }
   ],
   "source": [
    "# Building Series with custom index\n",
    "vals = (4, 6, 3, 9, 6, 2, 5, 7)\n",
    "ind  = ('d', 'b', 'a', 'c', 'e', 'd', 'g', 'h')\n",
    "s=pd.Series(vals, index=ind)\n",
    "s['d'] # returns all matches\n",
    "# CAREFUL index slicing is [start:stop] (not stop-before)\n",
    "s['b':'g'] # access members by index (cannot use repeating index names)"
   ]
  },
  {
   "cell_type": "code",
   "execution_count": 25,
   "id": "8a71b2c3",
   "metadata": {},
   "outputs": [],
   "source": [
    "s['c'] = s['c']/3"
   ]
  },
  {
   "cell_type": "code",
   "execution_count": 32,
   "id": "47b27093",
   "metadata": {},
   "outputs": [
    {
     "data": {
      "text/plain": [
       "6"
      ]
     },
     "execution_count": 32,
     "metadata": {},
     "output_type": "execute_result"
    }
   ],
   "source": [
    "# we can use the index or the ordinal position to access members of a Series\n",
    "s[1] # ordinal\n",
    "s['b'] # index"
   ]
  },
  {
   "cell_type": "code",
   "execution_count": 42,
   "id": "78cee69c",
   "metadata": {},
   "outputs": [
    {
     "data": {
      "text/plain": [
       "d    4.0\n",
       "b    6.0\n",
       "a    3.0\n",
       "c    9.0\n",
       "e    NaN\n",
       "d    2.0\n",
       "g    5.0\n",
       "h    7.0\n",
       "i    2.0\n",
       "z   -3.0\n",
       "dtype: float64"
      ]
     },
     "execution_count": 42,
     "metadata": {},
     "output_type": "execute_result"
    }
   ],
   "source": [
    "# we can addd new members to a Series\n",
    "s['z'] = -3\n",
    "s['e'] = np.nan # assign to a not-number value\n",
    "s"
   ]
  },
  {
   "cell_type": "code",
   "execution_count": 43,
   "id": "96a5df26",
   "metadata": {},
   "outputs": [
    {
     "data": {
      "text/plain": [
       "d    2.000000\n",
       "b    2.449490\n",
       "a    1.732051\n",
       "c    3.000000\n",
       "e         NaN\n",
       "d    1.414214\n",
       "g    2.236068\n",
       "h    2.645751\n",
       "i    1.414214\n",
       "z         NaN\n",
       "dtype: float64"
      ]
     },
     "execution_count": 43,
     "metadata": {},
     "output_type": "execute_result"
    }
   ],
   "source": [
    "# We can use logic to filter \n",
    "s[s>2]\n",
    "s[s<0]\n",
    "s**0.5 # NaN represents not a number (a numeric data type)"
   ]
  },
  {
   "cell_type": "code",
   "execution_count": 44,
   "id": "229063d0",
   "metadata": {},
   "outputs": [
    {
     "data": {
      "text/plain": [
       "Cork       35000.0\n",
       "Shannon        NaN\n",
       "Athlone     5000.0\n",
       "Galway     16000.0\n",
       "Dublin     71000.0\n",
       "dtype: float64"
      ]
     },
     "execution_count": 44,
     "metadata": {},
     "output_type": "execute_result"
    }
   ],
   "source": [
    "# Working with structured data\n",
    "sdata = {'Cork':35000, 'Dublin':71000, 'Galway':16000, 'Athlone':5000}\n",
    "idata = {'Cork', 'Dublin', 'Shannon', 'Galway', 'Athlone'} # set, list, tuple all good\n",
    "p = pd.Series(sdata, idata) # or index=idata\n",
    "p # any missing index members take NaN"
   ]
  },
  {
   "cell_type": "code",
   "execution_count": 47,
   "id": "6085548a",
   "metadata": {
    "scrolled": true
   },
   "outputs": [
    {
     "data": {
      "text/plain": [
       "Cork       35000.0\n",
       "Shannon    32344.0\n",
       "Athlone     5000.0\n",
       "Galway     16000.0\n",
       "Dublin     71000.0\n",
       "dtype: float64"
      ]
     },
     "execution_count": 47,
     "metadata": {},
     "output_type": "execute_result"
    }
   ],
   "source": [
    "p['Cork']\n",
    "p['Shannon'] = 32344\n",
    "p"
   ]
  },
  {
   "cell_type": "markdown",
   "id": "6843971e",
   "metadata": {},
   "source": [
    "### Pandas Data Frame structure"
   ]
  },
  {
   "cell_type": "code",
   "execution_count": 48,
   "id": "10e62641",
   "metadata": {},
   "outputs": [],
   "source": [
    "# Dataframe is a collection of series\n",
    "# Each column of a dataframe is a series\n",
    "# Each column can therefore only contain one data type\n",
    "# The dataframe columns can be of different daya types\n",
    "# a Dataframe looks somewhat like a spreadsheet\n",
    "towns_l = ['Cork', 'Dublin', 'Galway', 'Athlone', 'Shannon', 'Rosscarbery', 'Athenry']\n",
    "years_l = [2017, 2018, 2019, 2020, 2021, 2022, 2023]\n",
    "pop_l   = [1.5, 1.7, 3.6, 2.4, 2.9, 3.2, 1.7]"
   ]
  },
  {
   "cell_type": "code",
   "execution_count": 50,
   "id": "152b8504",
   "metadata": {},
   "outputs": [
    {
     "data": {
      "text/plain": [
       "{'towns': ['Cork',\n",
       "  'Dublin',\n",
       "  'Galway',\n",
       "  'Athlone',\n",
       "  'Shannon',\n",
       "  'Rosscarbery',\n",
       "  'Athenry'],\n",
       " 'year': [2017, 2018, 2019, 2020, 2021, 2022, 2023],\n",
       " 'pop': [1.5, 1.7, 3.6, 2.4, 2.9, 3.2, 1.7]}"
      ]
     },
     "execution_count": 50,
     "metadata": {},
     "output_type": "execute_result"
    }
   ],
   "source": [
    "data_d = {'towns':towns_l, 'year':years_l, 'pop':pop_l}\n",
    "data_d # we have a Python dictionary"
   ]
  },
  {
   "cell_type": "code",
   "execution_count": 54,
   "id": "26614659",
   "metadata": {},
   "outputs": [
    {
     "data": {
      "text/html": [
       "<div>\n",
       "<style scoped>\n",
       "    .dataframe tbody tr th:only-of-type {\n",
       "        vertical-align: middle;\n",
       "    }\n",
       "\n",
       "    .dataframe tbody tr th {\n",
       "        vertical-align: top;\n",
       "    }\n",
       "\n",
       "    .dataframe thead th {\n",
       "        text-align: right;\n",
       "    }\n",
       "</style>\n",
       "<table border=\"1\" class=\"dataframe\">\n",
       "  <thead>\n",
       "    <tr style=\"text-align: right;\">\n",
       "      <th></th>\n",
       "      <th>towns</th>\n",
       "      <th>year</th>\n",
       "      <th>pop</th>\n",
       "    </tr>\n",
       "  </thead>\n",
       "  <tbody>\n",
       "    <tr>\n",
       "      <th>one</th>\n",
       "      <td>Cork</td>\n",
       "      <td>2017</td>\n",
       "      <td>1.5</td>\n",
       "    </tr>\n",
       "    <tr>\n",
       "      <th>two</th>\n",
       "      <td>Dublin</td>\n",
       "      <td>2018</td>\n",
       "      <td>1.7</td>\n",
       "    </tr>\n",
       "    <tr>\n",
       "      <th>three</th>\n",
       "      <td>Galway</td>\n",
       "      <td>2019</td>\n",
       "      <td>3.6</td>\n",
       "    </tr>\n",
       "    <tr>\n",
       "      <th>four</th>\n",
       "      <td>Athlone</td>\n",
       "      <td>2020</td>\n",
       "      <td>2.4</td>\n",
       "    </tr>\n",
       "    <tr>\n",
       "      <th>five</th>\n",
       "      <td>Shannon</td>\n",
       "      <td>2021</td>\n",
       "      <td>2.9</td>\n",
       "    </tr>\n",
       "    <tr>\n",
       "      <th>six</th>\n",
       "      <td>Rosscarbery</td>\n",
       "      <td>2022</td>\n",
       "      <td>3.2</td>\n",
       "    </tr>\n",
       "    <tr>\n",
       "      <th>seven</th>\n",
       "      <td>Athenry</td>\n",
       "      <td>2023</td>\n",
       "      <td>1.7</td>\n",
       "    </tr>\n",
       "  </tbody>\n",
       "</table>\n",
       "</div>"
      ],
      "text/plain": [
       "             towns  year  pop\n",
       "one           Cork  2017  1.5\n",
       "two         Dublin  2018  1.7\n",
       "three       Galway  2019  3.6\n",
       "four       Athlone  2020  2.4\n",
       "five       Shannon  2021  2.9\n",
       "six    Rosscarbery  2022  3.2\n",
       "seven      Athenry  2023  1.7"
      ]
     },
     "execution_count": 54,
     "metadata": {},
     "output_type": "execute_result"
    }
   ],
   "source": [
    "# Pandas Dataframe makes this look nicer\n",
    "df = pd.DataFrame(data_d, index=towns_l) # index is optional\n",
    "df\n",
    "# we can re-index a Dataframe\n",
    "index_l = ['one', 'two', 'three', 'four', 'five', 'six', 'seven']\n",
    "df.index = index_l\n",
    "df"
   ]
  },
  {
   "cell_type": "code",
   "execution_count": 59,
   "id": "ebc173b6",
   "metadata": {},
   "outputs": [
    {
     "data": {
      "text/html": [
       "<div>\n",
       "<style scoped>\n",
       "    .dataframe tbody tr th:only-of-type {\n",
       "        vertical-align: middle;\n",
       "    }\n",
       "\n",
       "    .dataframe tbody tr th {\n",
       "        vertical-align: top;\n",
       "    }\n",
       "\n",
       "    .dataframe thead th {\n",
       "        text-align: right;\n",
       "    }\n",
       "</style>\n",
       "<table border=\"1\" class=\"dataframe\">\n",
       "  <thead>\n",
       "    <tr style=\"text-align: right;\">\n",
       "      <th></th>\n",
       "      <th>towns</th>\n",
       "      <th>year</th>\n",
       "      <th>pop</th>\n",
       "    </tr>\n",
       "  </thead>\n",
       "  <tbody>\n",
       "    <tr>\n",
       "      <th>five</th>\n",
       "      <td>Shannon</td>\n",
       "      <td>2021</td>\n",
       "      <td>2.9</td>\n",
       "    </tr>\n",
       "    <tr>\n",
       "      <th>six</th>\n",
       "      <td>Rosscarbery</td>\n",
       "      <td>2022</td>\n",
       "      <td>3.2</td>\n",
       "    </tr>\n",
       "    <tr>\n",
       "      <th>seven</th>\n",
       "      <td>Athenry</td>\n",
       "      <td>2023</td>\n",
       "      <td>1.7</td>\n",
       "    </tr>\n",
       "  </tbody>\n",
       "</table>\n",
       "</div>"
      ],
      "text/plain": [
       "             towns  year  pop\n",
       "five       Shannon  2021  2.9\n",
       "six    Rosscarbery  2022  3.2\n",
       "seven      Athenry  2023  1.7"
      ]
     },
     "execution_count": 59,
     "metadata": {},
     "output_type": "execute_result"
    }
   ],
   "source": [
    "df.head(2) # just show  the first few\n",
    "df.tail(3)"
   ]
  },
  {
   "cell_type": "code",
   "execution_count": 63,
   "id": "75cd2998",
   "metadata": {},
   "outputs": [
    {
     "data": {
      "text/html": [
       "<div>\n",
       "<style scoped>\n",
       "    .dataframe tbody tr th:only-of-type {\n",
       "        vertical-align: middle;\n",
       "    }\n",
       "\n",
       "    .dataframe tbody tr th {\n",
       "        vertical-align: top;\n",
       "    }\n",
       "\n",
       "    .dataframe thead th {\n",
       "        text-align: right;\n",
       "    }\n",
       "</style>\n",
       "<table border=\"1\" class=\"dataframe\">\n",
       "  <thead>\n",
       "    <tr style=\"text-align: right;\">\n",
       "      <th></th>\n",
       "      <th>pop</th>\n",
       "      <th>year</th>\n",
       "    </tr>\n",
       "  </thead>\n",
       "  <tbody>\n",
       "    <tr>\n",
       "      <th>Cork</th>\n",
       "      <td>1.5</td>\n",
       "      <td>2017</td>\n",
       "    </tr>\n",
       "    <tr>\n",
       "      <th>Dublin</th>\n",
       "      <td>1.7</td>\n",
       "      <td>2018</td>\n",
       "    </tr>\n",
       "    <tr>\n",
       "      <th>Galway</th>\n",
       "      <td>3.6</td>\n",
       "      <td>2019</td>\n",
       "    </tr>\n",
       "    <tr>\n",
       "      <th>Athlone</th>\n",
       "      <td>2.4</td>\n",
       "      <td>2020</td>\n",
       "    </tr>\n",
       "    <tr>\n",
       "      <th>Shannon</th>\n",
       "      <td>2.9</td>\n",
       "      <td>2021</td>\n",
       "    </tr>\n",
       "    <tr>\n",
       "      <th>Rosscarbery</th>\n",
       "      <td>3.2</td>\n",
       "      <td>2022</td>\n",
       "    </tr>\n",
       "    <tr>\n",
       "      <th>Athenry</th>\n",
       "      <td>1.7</td>\n",
       "      <td>2023</td>\n",
       "    </tr>\n",
       "  </tbody>\n",
       "</table>\n",
       "</div>"
      ],
      "text/plain": [
       "             pop  year\n",
       "Cork         1.5  2017\n",
       "Dublin       1.7  2018\n",
       "Galway       3.6  2019\n",
       "Athlone      2.4  2020\n",
       "Shannon      2.9  2021\n",
       "Rosscarbery  3.2  2022\n",
       "Athenry      1.7  2023"
      ]
     },
     "execution_count": 63,
     "metadata": {},
     "output_type": "execute_result"
    }
   ],
   "source": [
    "# Alternatively we can make a dataframee from primitive structures\n",
    "df2 = pd.DataFrame(data_d, columns=['pop', 'year'], index=towns_l)\n",
    "df2"
   ]
  },
  {
   "cell_type": "code",
   "execution_count": 65,
   "id": "9f20a5a3",
   "metadata": {},
   "outputs": [
    {
     "data": {
      "text/plain": [
       "Cork           2017\n",
       "Dublin         2018\n",
       "Galway         2019\n",
       "Athlone        2020\n",
       "Shannon        2021\n",
       "Rosscarbery    2022\n",
       "Athenry        2023\n",
       "Name: year, dtype: int64"
      ]
     },
     "execution_count": 65,
     "metadata": {},
     "output_type": "execute_result"
    }
   ],
   "source": [
    "df2['year'] # this is a Series"
   ]
  },
  {
   "cell_type": "markdown",
   "id": "eca50db0",
   "metadata": {},
   "source": [
    "### Using loc and iloc"
   ]
  },
  {
   "cell_type": "code",
   "execution_count": 67,
   "id": "d17ed40e",
   "metadata": {},
   "outputs": [
    {
     "data": {
      "text/plain": [
       "pop        2.4\n",
       "year    2020.0\n",
       "Name: Athlone, dtype: float64"
      ]
     },
     "execution_count": 67,
     "metadata": {},
     "output_type": "execute_result"
    }
   ],
   "source": [
    "# loc is location (uses the index)\n",
    "df2.loc['Shannon']\n",
    "# iloc is the underlying ordinal index location\n",
    "df2.iloc[3]"
   ]
  },
  {
   "cell_type": "code",
   "execution_count": 71,
   "id": "92d4f0bf",
   "metadata": {},
   "outputs": [
    {
     "data": {
      "text/plain": [
       "towns    Galway\n",
       "year       2019\n",
       "pop         3.6\n",
       "Name: 6, dtype: object"
      ]
     },
     "execution_count": 71,
     "metadata": {},
     "output_type": "execute_result"
    }
   ],
   "source": [
    "# we can use numbers for our own index\n",
    "num_l = [4,5,6,3,2,1,0]\n",
    "df3 = pd.DataFrame(data_d, index=num_l)\n",
    "df3\n",
    "# what is loc and iloc now...\n",
    "df3.loc[2] # Shannon - index member 2\n",
    "df3.iloc[2] # Galway - ordinal position 2"
   ]
  },
  {
   "cell_type": "markdown",
   "id": "8746c75e",
   "metadata": {},
   "source": [
    "### Accessing and Mutating Dataframe members"
   ]
  },
  {
   "cell_type": "code",
   "execution_count": 78,
   "id": "cb2aa05b",
   "metadata": {},
   "outputs": [
    {
     "data": {
      "text/html": [
       "<div>\n",
       "<style scoped>\n",
       "    .dataframe tbody tr th:only-of-type {\n",
       "        vertical-align: middle;\n",
       "    }\n",
       "\n",
       "    .dataframe tbody tr th {\n",
       "        vertical-align: top;\n",
       "    }\n",
       "\n",
       "    .dataframe thead th {\n",
       "        text-align: right;\n",
       "    }\n",
       "</style>\n",
       "<table border=\"1\" class=\"dataframe\">\n",
       "  <thead>\n",
       "    <tr style=\"text-align: right;\">\n",
       "      <th></th>\n",
       "      <th>pop</th>\n",
       "      <th>year</th>\n",
       "      <th>tour</th>\n",
       "    </tr>\n",
       "  </thead>\n",
       "  <tbody>\n",
       "    <tr>\n",
       "      <th>Cork</th>\n",
       "      <td>1.5</td>\n",
       "      <td>2017</td>\n",
       "      <td>NaN</td>\n",
       "    </tr>\n",
       "    <tr>\n",
       "      <th>Dublin</th>\n",
       "      <td>1.7</td>\n",
       "      <td>2018</td>\n",
       "      <td>2.9</td>\n",
       "    </tr>\n",
       "    <tr>\n",
       "      <th>Galway</th>\n",
       "      <td>3.6</td>\n",
       "      <td>2019</td>\n",
       "      <td>3.2</td>\n",
       "    </tr>\n",
       "    <tr>\n",
       "      <th>Athlone</th>\n",
       "      <td>2.4</td>\n",
       "      <td>2020</td>\n",
       "      <td>NaN</td>\n",
       "    </tr>\n",
       "    <tr>\n",
       "      <th>Shannon</th>\n",
       "      <td>2.9</td>\n",
       "      <td>2021</td>\n",
       "      <td>5.3</td>\n",
       "    </tr>\n",
       "    <tr>\n",
       "      <th>Rosscarbery</th>\n",
       "      <td>3.2</td>\n",
       "      <td>2022</td>\n",
       "      <td>NaN</td>\n",
       "    </tr>\n",
       "    <tr>\n",
       "      <th>Athenry</th>\n",
       "      <td>1.7</td>\n",
       "      <td>2023</td>\n",
       "      <td>NaN</td>\n",
       "    </tr>\n",
       "  </tbody>\n",
       "</table>\n",
       "</div>"
      ],
      "text/plain": [
       "             pop  year  tour\n",
       "Cork         1.5  2017   NaN\n",
       "Dublin       1.7  2018   2.9\n",
       "Galway       3.6  2019   3.2\n",
       "Athlone      2.4  2020   NaN\n",
       "Shannon      2.9  2021   5.3\n",
       "Rosscarbery  3.2  2022   NaN\n",
       "Athenry      1.7  2023   NaN"
      ]
     },
     "execution_count": 78,
     "metadata": {},
     "output_type": "execute_result"
    }
   ],
   "source": [
    "# we can add new columns to our Dataframe\n",
    "df2['tour'] = np.arange(7)\n",
    "df2.loc['Galway']['tour']+9 # this does not mutate the original value\n",
    "new_val = [3.2,5.3,2.9]\n",
    "df2['tour'] = pd.Series(new_val, index=['Galway', 'Shannon', 'Dublin'])\n",
    "df2 # any new values not provided will become NaN"
   ]
  },
  {
   "cell_type": "markdown",
   "id": "c600c712",
   "metadata": {},
   "source": [
    "### Indexing and Filtering Dataframe"
   ]
  },
  {
   "cell_type": "code",
   "execution_count": 80,
   "id": "02a48608",
   "metadata": {},
   "outputs": [
    {
     "data": {
      "text/html": [
       "<div>\n",
       "<style scoped>\n",
       "    .dataframe tbody tr th:only-of-type {\n",
       "        vertical-align: middle;\n",
       "    }\n",
       "\n",
       "    .dataframe tbody tr th {\n",
       "        vertical-align: top;\n",
       "    }\n",
       "\n",
       "    .dataframe thead th {\n",
       "        text-align: right;\n",
       "    }\n",
       "</style>\n",
       "<table border=\"1\" class=\"dataframe\">\n",
       "  <thead>\n",
       "    <tr style=\"text-align: right;\">\n",
       "      <th></th>\n",
       "      <th>red</th>\n",
       "      <th>green</th>\n",
       "      <th>gold</th>\n",
       "      <th>white</th>\n",
       "    </tr>\n",
       "  </thead>\n",
       "  <tbody>\n",
       "    <tr>\n",
       "      <th>Waterford</th>\n",
       "      <td>0</td>\n",
       "      <td>1</td>\n",
       "      <td>2</td>\n",
       "      <td>3</td>\n",
       "    </tr>\n",
       "    <tr>\n",
       "      <th>Clonakilty</th>\n",
       "      <td>4</td>\n",
       "      <td>5</td>\n",
       "      <td>6</td>\n",
       "      <td>7</td>\n",
       "    </tr>\n",
       "    <tr>\n",
       "      <th>Athenry</th>\n",
       "      <td>8</td>\n",
       "      <td>9</td>\n",
       "      <td>10</td>\n",
       "      <td>11</td>\n",
       "    </tr>\n",
       "    <tr>\n",
       "      <th>Meath</th>\n",
       "      <td>12</td>\n",
       "      <td>13</td>\n",
       "      <td>14</td>\n",
       "      <td>15</td>\n",
       "    </tr>\n",
       "  </tbody>\n",
       "</table>\n",
       "</div>"
      ],
      "text/plain": [
       "            red  green  gold  white\n",
       "Waterford     0      1     2      3\n",
       "Clonakilty    4      5     6      7\n",
       "Athenry       8      9    10     11\n",
       "Meath        12     13    14     15"
      ]
     },
     "execution_count": 80,
     "metadata": {},
     "output_type": "execute_result"
    }
   ],
   "source": [
    "i = ['Waterford', 'Clonakilty', 'Athenry', 'Meath']\n",
    "c = ['red', 'green', 'gold', 'white']\n",
    "df4 = pd.DataFrame(np.arange(16).reshape(4,4), index=i, columns=c)\n",
    "df4"
   ]
  },
  {
   "cell_type": "code",
   "execution_count": 82,
   "id": "f1d36f89",
   "metadata": {},
   "outputs": [
    {
     "data": {
      "text/html": [
       "<div>\n",
       "<style scoped>\n",
       "    .dataframe tbody tr th:only-of-type {\n",
       "        vertical-align: middle;\n",
       "    }\n",
       "\n",
       "    .dataframe tbody tr th {\n",
       "        vertical-align: top;\n",
       "    }\n",
       "\n",
       "    .dataframe thead th {\n",
       "        text-align: right;\n",
       "    }\n",
       "</style>\n",
       "<table border=\"1\" class=\"dataframe\">\n",
       "  <thead>\n",
       "    <tr style=\"text-align: right;\">\n",
       "      <th></th>\n",
       "      <th>red</th>\n",
       "      <th>green</th>\n",
       "      <th>gold</th>\n",
       "      <th>white</th>\n",
       "    </tr>\n",
       "  </thead>\n",
       "  <tbody>\n",
       "    <tr>\n",
       "      <th>Clonakilty</th>\n",
       "      <td>4</td>\n",
       "      <td>5</td>\n",
       "      <td>6</td>\n",
       "      <td>7</td>\n",
       "    </tr>\n",
       "  </tbody>\n",
       "</table>\n",
       "</div>"
      ],
      "text/plain": [
       "            red  green  gold  white\n",
       "Clonakilty    4      5     6      7"
      ]
     },
     "execution_count": 82,
     "metadata": {},
     "output_type": "execute_result"
    }
   ],
   "source": [
    "whichRow = df4[ df4['gold']==6 ]\n",
    "whichRow"
   ]
  },
  {
   "cell_type": "code",
   "execution_count": 84,
   "id": "8e1062d9",
   "metadata": {},
   "outputs": [
    {
     "data": {
      "text/html": [
       "<div>\n",
       "<style scoped>\n",
       "    .dataframe tbody tr th:only-of-type {\n",
       "        vertical-align: middle;\n",
       "    }\n",
       "\n",
       "    .dataframe tbody tr th {\n",
       "        vertical-align: top;\n",
       "    }\n",
       "\n",
       "    .dataframe thead th {\n",
       "        text-align: right;\n",
       "    }\n",
       "</style>\n",
       "<table border=\"1\" class=\"dataframe\">\n",
       "  <thead>\n",
       "    <tr style=\"text-align: right;\">\n",
       "      <th></th>\n",
       "      <th>red</th>\n",
       "      <th>green</th>\n",
       "      <th>gold</th>\n",
       "      <th>white</th>\n",
       "    </tr>\n",
       "  </thead>\n",
       "  <tbody>\n",
       "    <tr>\n",
       "      <th>Waterford</th>\n",
       "      <td>0</td>\n",
       "      <td>1</td>\n",
       "      <td>2</td>\n",
       "      <td>3</td>\n",
       "    </tr>\n",
       "    <tr>\n",
       "      <th>Clonakilty</th>\n",
       "      <td>4</td>\n",
       "      <td>55</td>\n",
       "      <td>6</td>\n",
       "      <td>99</td>\n",
       "    </tr>\n",
       "    <tr>\n",
       "      <th>Athenry</th>\n",
       "      <td>8</td>\n",
       "      <td>9</td>\n",
       "      <td>10</td>\n",
       "      <td>11</td>\n",
       "    </tr>\n",
       "    <tr>\n",
       "      <th>Meath</th>\n",
       "      <td>12</td>\n",
       "      <td>13</td>\n",
       "      <td>14</td>\n",
       "      <td>15</td>\n",
       "    </tr>\n",
       "  </tbody>\n",
       "</table>\n",
       "</div>"
      ],
      "text/plain": [
       "            red  green  gold  white\n",
       "Waterford     0      1     2      3\n",
       "Clonakilty    4     55     6     99\n",
       "Athenry       8      9    10     11\n",
       "Meath        12     13    14     15"
      ]
     },
     "execution_count": 84,
     "metadata": {},
     "output_type": "execute_result"
    }
   ],
   "source": [
    "df4.loc['Clonakilty']['green'] = 55 # this mutation will persist\n",
    "df4.iloc[1]['white']=99\n",
    "df4"
   ]
  }
 ],
 "metadata": {
  "kernelspec": {
   "display_name": "Python 3 (ipykernel)",
   "language": "python",
   "name": "python3"
  },
  "language_info": {
   "codemirror_mode": {
    "name": "ipython",
    "version": 3
   },
   "file_extension": ".py",
   "mimetype": "text/x-python",
   "name": "python",
   "nbconvert_exporter": "python",
   "pygments_lexer": "ipython3",
   "version": "3.9.12"
  }
 },
 "nbformat": 4,
 "nbformat_minor": 5
}
