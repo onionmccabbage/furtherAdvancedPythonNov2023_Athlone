{
 "cells": [
  {
   "cell_type": "markdown",
   "id": "504a0c3f",
   "metadata": {},
   "source": [
    "## Loading and Saving to External files"
   ]
  },
  {
   "cell_type": "code",
   "execution_count": 1,
   "id": "56fe1dfb",
   "metadata": {},
   "outputs": [],
   "source": [
    "import numpy as np\n",
    "import pandas as pd"
   ]
  },
  {
   "cell_type": "code",
   "execution_count": 5,
   "id": "d57d6ad1",
   "metadata": {},
   "outputs": [],
   "source": [
    "# we can save any structure like this\n",
    "arr = np.arange(10)\n",
    "arr\n",
    "np.save('my_array', arr) # this will persist in the file system\n",
    "# we can also use savez to save as a compressed file"
   ]
  },
  {
   "cell_type": "code",
   "execution_count": 6,
   "id": "ec8ab601",
   "metadata": {},
   "outputs": [
    {
     "data": {
      "text/plain": [
       "array([0, 1, 2, 3, 4, 5, 6, 7, 8, 9])"
      ]
     },
     "execution_count": 6,
     "metadata": {},
     "output_type": "execute_result"
    }
   ],
   "source": [
    "# read back\n",
    "arr2 = np.load('my_array.npy') # numpy handles all the file access\n",
    "arr2"
   ]
  },
  {
   "cell_type": "code",
   "execution_count": 17,
   "id": "9a57b9e9",
   "metadata": {},
   "outputs": [],
   "source": [
    "# we can save comma separated values (csv)\n",
    "np.random.seed(20) # this ensures reproduicible random numbers\n",
    "r = np.arange(10)\n",
    "np.random.shuffle(r) # put the members into a random order\n",
    "r\n",
    "np.savetxt('my_arr.csv', r, delimiter=',') # create csv file"
   ]
  },
  {
   "cell_type": "code",
   "execution_count": 18,
   "id": "fbd5ab0d",
   "metadata": {},
   "outputs": [
    {
     "data": {
      "text/plain": [
       "array([7., 1., 8., 5., 0., 2., 6., 9., 4., 3.])"
      ]
     },
     "execution_count": 18,
     "metadata": {},
     "output_type": "execute_result"
    }
   ],
   "source": [
    "d = np.loadtxt('my_arr.csv')\n",
    "d"
   ]
  },
  {
   "cell_type": "markdown",
   "id": "e53e21e2",
   "metadata": {},
   "source": [
    "### Loading Large CSV data"
   ]
  },
  {
   "cell_type": "code",
   "execution_count": 22,
   "id": "b8c7a092",
   "metadata": {},
   "outputs": [
    {
     "data": {
      "text/html": [
       "<div>\n",
       "<style scoped>\n",
       "    .dataframe tbody tr th:only-of-type {\n",
       "        vertical-align: middle;\n",
       "    }\n",
       "\n",
       "    .dataframe tbody tr th {\n",
       "        vertical-align: top;\n",
       "    }\n",
       "\n",
       "    .dataframe thead th {\n",
       "        text-align: right;\n",
       "    }\n",
       "</style>\n",
       "<table border=\"1\" class=\"dataframe\">\n",
       "  <thead>\n",
       "    <tr style=\"text-align: right;\">\n",
       "      <th></th>\n",
       "      <th>phd</th>\n",
       "      <th>service</th>\n",
       "      <th>salary</th>\n",
       "    </tr>\n",
       "  </thead>\n",
       "  <tbody>\n",
       "    <tr>\n",
       "      <th>count</th>\n",
       "      <td>78.000000</td>\n",
       "      <td>78.000000</td>\n",
       "      <td>78.000000</td>\n",
       "    </tr>\n",
       "    <tr>\n",
       "      <th>mean</th>\n",
       "      <td>19.705128</td>\n",
       "      <td>15.051282</td>\n",
       "      <td>108023.782051</td>\n",
       "    </tr>\n",
       "    <tr>\n",
       "      <th>std</th>\n",
       "      <td>12.498425</td>\n",
       "      <td>12.139768</td>\n",
       "      <td>28293.661022</td>\n",
       "    </tr>\n",
       "    <tr>\n",
       "      <th>min</th>\n",
       "      <td>1.000000</td>\n",
       "      <td>0.000000</td>\n",
       "      <td>57800.000000</td>\n",
       "    </tr>\n",
       "    <tr>\n",
       "      <th>25%</th>\n",
       "      <td>10.250000</td>\n",
       "      <td>5.250000</td>\n",
       "      <td>88612.500000</td>\n",
       "    </tr>\n",
       "    <tr>\n",
       "      <th>50%</th>\n",
       "      <td>18.500000</td>\n",
       "      <td>14.500000</td>\n",
       "      <td>104671.000000</td>\n",
       "    </tr>\n",
       "    <tr>\n",
       "      <th>75%</th>\n",
       "      <td>27.750000</td>\n",
       "      <td>20.750000</td>\n",
       "      <td>126774.750000</td>\n",
       "    </tr>\n",
       "    <tr>\n",
       "      <th>max</th>\n",
       "      <td>56.000000</td>\n",
       "      <td>51.000000</td>\n",
       "      <td>186960.000000</td>\n",
       "    </tr>\n",
       "  </tbody>\n",
       "</table>\n",
       "</div>"
      ],
      "text/plain": [
       "             phd    service         salary\n",
       "count  78.000000  78.000000      78.000000\n",
       "mean   19.705128  15.051282  108023.782051\n",
       "std    12.498425  12.139768   28293.661022\n",
       "min     1.000000   0.000000   57800.000000\n",
       "25%    10.250000   5.250000   88612.500000\n",
       "50%    18.500000  14.500000  104671.000000\n",
       "75%    27.750000  20.750000  126774.750000\n",
       "max    56.000000  51.000000  186960.000000"
      ]
     },
     "execution_count": 22,
     "metadata": {},
     "output_type": "execute_result"
    }
   ],
   "source": [
    "# we can load data from very large data sets (limited only by resources)\n",
    "df = pd.read_csv('data/salaries.csv') # make sure the file is accessable to this notebook\n",
    "df.head()\n",
    "df.tail()\n",
    "# we cana quickly grasp some useful statistical values\n",
    "df.describe()"
   ]
  },
  {
   "cell_type": "code",
   "execution_count": 31,
   "id": "06750a64",
   "metadata": {},
   "outputs": [
    {
     "data": {
      "text/plain": [
       "0     56\n",
       "1     12\n",
       "2     23\n",
       "3     40\n",
       "4     20\n",
       "      ..\n",
       "73    18\n",
       "74    19\n",
       "75    17\n",
       "76    28\n",
       "77    23\n",
       "Name: phd, Length: 78, dtype: int64"
      ]
     },
     "execution_count": 31,
     "metadata": {},
     "output_type": "execute_result"
    }
   ],
   "source": [
    "# we can explore this dataframe\n",
    "df.columns\n",
    "df.size # total number of data points\n",
    "df.sum()\n",
    "df.max() # or df.min()\n",
    "df['salary'].mean()\n",
    "df['phd']"
   ]
  },
  {
   "cell_type": "code",
   "execution_count": null,
   "id": "e2e3c08b",
   "metadata": {},
   "outputs": [],
   "source": []
  },
  {
   "cell_type": "code",
   "execution_count": null,
   "id": "4dbcec6b",
   "metadata": {},
   "outputs": [],
   "source": []
  },
  {
   "cell_type": "code",
   "execution_count": null,
   "id": "40d91704",
   "metadata": {},
   "outputs": [],
   "source": []
  }
 ],
 "metadata": {
  "kernelspec": {
   "display_name": "Python 3 (ipykernel)",
   "language": "python",
   "name": "python3"
  },
  "language_info": {
   "codemirror_mode": {
    "name": "ipython",
    "version": 3
   },
   "file_extension": ".py",
   "mimetype": "text/x-python",
   "name": "python",
   "nbconvert_exporter": "python",
   "pygments_lexer": "ipython3",
   "version": "3.9.12"
  }
 },
 "nbformat": 4,
 "nbformat_minor": 5
}
