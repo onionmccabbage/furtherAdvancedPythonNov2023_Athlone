{
 "cells": [
  {
   "cell_type": "markdown",
   "id": "8f2eb0d9",
   "metadata": {},
   "source": [
    "## Visualizing Data with Charts"
   ]
  },
  {
   "cell_type": "code",
   "execution_count": 1,
   "id": "e7f1a6a5",
   "metadata": {},
   "outputs": [],
   "source": [
    "import numpy as np\n",
    "import pandas as pd\n",
    "import matplotlib.pyplot as plt"
   ]
  },
  {
   "cell_type": "code",
   "execution_count": 9,
   "id": "911ec00b",
   "metadata": {},
   "outputs": [
    {
     "data": {
      "text/plain": [
       "(array([0, 1, 2, 3, 4]),\n",
       " array([4.26075302, 4.23615424, 4.97517511, 4.19924596, 4.8976581 ]))"
      ]
     },
     "execution_count": 9,
     "metadata": {},
     "output_type": "execute_result"
    }
   ],
   "source": [
    "# plotting is very simple\n",
    "x = np.arange(5)\n",
    "y = np.random.rand(5)+4 # an offset of 4\n",
    "x, y"
   ]
  },
  {
   "cell_type": "code",
   "execution_count": 16,
   "id": "deebccab",
   "metadata": {},
   "outputs": [
    {
     "data": {
      "text/plain": [
       "Text(0.5, 1.0, 'Vertical Bars')"
      ]
     },
     "execution_count": 16,
     "metadata": {},
     "output_type": "execute_result"
    },
    {
     "data": {
      "image/png": "[encoded data removed]",
      "text/plain": [
       "<Figure size 432x288 with 1 Axes>"
      ]
     },
     "metadata": {
      "needs_background": "light"
     },
     "output_type": "display_data"
    }
   ],
   "source": [
    "plt.bar(x,y)\n",
    "# plt.barh(x,y)\n",
    "# plt.pie(x)\n",
    "plt.title('Vertical Bars')"
   ]
  },
  {
   "cell_type": "code",
   "execution_count": 18,
   "id": "ecf85e16",
   "metadata": {},
   "outputs": [
    {
     "data": {
      "text/plain": [
       "array([ 0.        ,  0.29752066,  1.19008264,  2.67768595,  4.76033058,\n",
       "        7.43801653, 10.7107438 , 14.5785124 , 19.04132231, 24.09917355,\n",
       "       29.75206612, 36.        ])"
      ]
     },
     "execution_count": 18,
     "metadata": {},
     "output_type": "execute_result"
    }
   ],
   "source": [
    "# we can make a line chart\n",
    "x = np.linspace(0, 6, 12) # 0 to 6 in 12 parts\n",
    "x\n",
    "y = np.power(x, 2)\n",
    "y"
   ]
  },
  {
   "cell_type": "code",
   "execution_count": 19,
   "id": "fdab9e0a",
   "metadata": {},
   "outputs": [
    {
     "data": {
      "text/plain": [
       "[<matplotlib.lines.Line2D at 0x25936d5fbe0>]"
      ]
     },
     "execution_count": 19,
     "metadata": {},
     "output_type": "execute_result"
    },
    {
     "data": {
      "image/png": "[encoded data removed]",
      "text/plain": [
       "<Figure size 432x288 with 1 Axes>"
      ]
     },
     "metadata": {
      "needs_background": "light"
     },
     "output_type": "display_data"
    }
   ],
   "source": [
    "plt.axis([0,7, 0,42])\n",
    "plt.xlabel('Linear Progression')\n",
    "plt.ylabel('Squares')\n",
    "plt.title('Line Chart')\n",
    "plt.plot(x,y)"
   ]
  },
  {
   "cell_type": "code",
   "execution_count": null,
   "id": "34c24314",
   "metadata": {},
   "outputs": [],
   "source": []
  }
 ],
 "metadata": {
  "kernelspec": {
   "display_name": "Python 3 (ipykernel)",
   "language": "python",
   "name": "python3"
  },
  "language_info": {
   "codemirror_mode": {
    "name": "ipython",
    "version": 3
   },
   "file_extension": ".py",
   "mimetype": "text/x-python",
   "name": "python",
   "nbconvert_exporter": "python",
   "pygments_lexer": "ipython3",
   "version": "3.9.12"
  }
 },
 "nbformat": 4,
 "nbformat_minor": 5
}
