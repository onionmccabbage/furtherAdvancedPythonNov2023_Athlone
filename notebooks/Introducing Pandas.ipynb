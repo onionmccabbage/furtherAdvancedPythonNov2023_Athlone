{
 "cells": [
  {
   "cell_type": "markdown",
   "id": "75ae3472",
   "metadata": {},
   "source": [
    "## Pandas for Data Analysis\n",
    "Numpy and Pandas work together to offer performant tools for Data Analysis"
   ]
  },
  {
   "cell_type": "code",
   "execution_count": 1,
   "id": "a81d1590",
   "metadata": {},
   "outputs": [],
   "source": [
    "# we normally import at the top\n",
    "import numpy as np # this provides array and arange\n",
    "import pandas as pd # provides series and data frame"
   ]
  },
  {
   "cell_type": "code",
   "execution_count": 6,
   "id": "e41f72f6",
   "metadata": {},
   "outputs": [
    {
     "data": {
      "text/plain": [
       "0     8.0\n",
       "1     7.0\n",
       "2    -5.0\n",
       "3     3.0\n",
       "4    99.0\n",
       "dtype: float64"
      ]
     },
     "execution_count": 6,
     "metadata": {},
     "output_type": "execute_result"
    }
   ],
   "source": [
    "# Pandas provides a series data structure\n",
    "l = [8.0, 7, -5, 3, 99] # a list\n",
    "m = ['a', 'b', 'c', 'd']\n",
    "o = pd.Series(l)\n",
    "p = pd.Series(m)\n",
    "o # a Series is a mutable indexed collection of a single data type\n",
    "p\n",
    "o.values # a numpy array\n",
    "o.index  # a range\n",
    "o # all Series will have an index"
   ]
  },
  {
   "cell_type": "code",
   "execution_count": 19,
   "id": "9cf87064",
   "metadata": {},
   "outputs": [
    {
     "data": {
      "text/plain": [
       "b    6\n",
       "a    3\n",
       "c    9\n",
       "e    6\n",
       "d    2\n",
       "g    5\n",
       "dtype: int64"
      ]
     },
     "execution_count": 19,
     "metadata": {},
     "output_type": "execute_result"
    }
   ],
   "source": [
    "# Building Series with custom index\n",
    "vals = (4, 6, 3, 9, 6, 2, 5, 7)\n",
    "ind  = ('d', 'b', 'a', 'c', 'e', 'd', 'g', 'h')\n",
    "s=pd.Series(vals, index=ind)\n",
    "s['d'] # returns all matches\n",
    "# CAREFUL index slicing is [start:stop] (not stop-before)\n",
    "s['b':'g'] # access members by index (cannot use repeating index names)"
   ]
  },
  {
   "cell_type": "code",
   "execution_count": null,
   "id": "b35a4e2a",
   "metadata": {},
   "outputs": [],
   "source": []
  }
 ],
 "metadata": {
  "kernelspec": {
   "display_name": "Python 3 (ipykernel)",
   "language": "python",
   "name": "python3"
  },
  "language_info": {
   "codemirror_mode": {
    "name": "ipython",
    "version": 3
   },
   "file_extension": ".py",
   "mimetype": "text/x-python",
   "name": "python",
   "nbconvert_exporter": "python",
   "pygments_lexer": "ipython3",
   "version": "3.9.12"
  }
 },
 "nbformat": 4,
 "nbformat_minor": 5
}
