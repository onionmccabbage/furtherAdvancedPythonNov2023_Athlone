{
 "cells": [
  {
   "cell_type": "markdown",
   "id": "c56014d9",
   "metadata": {},
   "source": [
    "## Loading and Saving to External files"
   ]
  },
  {
   "cell_type": "code",
   "execution_count": 1,
   "id": "c9ea7ac7",
   "metadata": {},
   "outputs": [],
   "source": [
    "import numpy as np\n",
    "import pandas as pd"
   ]
  },
  {
   "cell_type": "code",
   "execution_count": 5,
   "id": "de752b1b",
   "metadata": {},
   "outputs": [],
   "source": [
    "# we can save any structure like this\n",
    "arr = np.arange(10)\n",
    "arr\n",
    "np.save('my_array', arr) # this will persist in the file system\n",
    "# we can also use savez to save as a compressed file"
   ]
  },
  {
   "cell_type": "code",
   "execution_count": 6,
   "id": "1635fc77",
   "metadata": {},
   "outputs": [
    {
     "data": {
      "text/plain": [
       "array([0, 1, 2, 3, 4, 5, 6, 7, 8, 9])"
      ]
     },
     "execution_count": 6,
     "metadata": {},
     "output_type": "execute_result"
    }
   ],
   "source": [
    "# read back\n",
    "arr2 = np.load('my_array.npy') # numpy handles all the file access\n",
    "arr2"
   ]
  },
  {
   "cell_type": "code",
   "execution_count": 17,
   "id": "1c741d91",
   "metadata": {},
   "outputs": [],
   "source": [
    "# we can save comma separated values (csv)\n",
    "np.random.seed(20) # this ensures reproduicible random numbers\n",
    "r = np.arange(10)\n",
    "np.random.shuffle(r) # put the members into a random order\n",
    "r\n",
    "np.savetxt('my_arr.csv', r, delimiter=',') # create csv file"
   ]
  },
  {
   "cell_type": "code",
   "execution_count": 18,
   "id": "fe3d8823",
   "metadata": {},
   "outputs": [
    {
     "data": {
      "text/plain": [
       "array([7., 1., 8., 5., 0., 2., 6., 9., 4., 3.])"
      ]
     },
     "execution_count": 18,
     "metadata": {},
     "output_type": "execute_result"
    }
   ],
   "source": [
    "d = np.loadtxt('my_arr.csv')\n",
    "d"
   ]
  },
  {
   "cell_type": "code",
   "execution_count": null,
   "id": "4db857c1",
   "metadata": {},
   "outputs": [],
   "source": []
  },
  {
   "cell_type": "code",
   "execution_count": null,
   "id": "b049e2c7",
   "metadata": {},
   "outputs": [],
   "source": []
  }
 ],
 "metadata": {
  "kernelspec": {
   "display_name": "Python 3 (ipykernel)",
   "language": "python",
   "name": "python3"
  },
  "language_info": {
   "codemirror_mode": {
    "name": "ipython",
    "version": 3
   },
   "file_extension": ".py",
   "mimetype": "text/x-python",
   "name": "python",
   "nbconvert_exporter": "python",
   "pygments_lexer": "ipython3",
   "version": "3.9.12"
  }
 },
 "nbformat": 4,
 "nbformat_minor": 5
}
