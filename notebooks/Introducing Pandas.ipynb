{
 "cells": [
  {
   "cell_type": "markdown",
   "id": "e7f31980",
   "metadata": {},
   "source": [
    "## Pandas for Data Analysis\n",
    "Numpy and Pandas work together to offer performant tools for Data Analysis"
   ]
  },
  {
   "cell_type": "code",
   "execution_count": 1,
   "id": "93abbf6f",
   "metadata": {},
   "outputs": [],
   "source": [
    "# we normally import at the top\n",
    "import numpy as np # this provides array and arange\n",
    "import pandas as pd # provides series and data frame"
   ]
  },
  {
   "cell_type": "code",
   "execution_count": 6,
   "id": "fa72b710",
   "metadata": {},
   "outputs": [
    {
     "data": {
      "text/plain": [
       "0     8.0\n",
       "1     7.0\n",
       "2    -5.0\n",
       "3     3.0\n",
       "4    99.0\n",
       "dtype: float64"
      ]
     },
     "execution_count": 6,
     "metadata": {},
     "output_type": "execute_result"
    }
   ],
   "source": [
    "# Pandas provides a series data structure\n",
    "l = [8.0, 7, -5, 3, 99] # a list\n",
    "m = ['a', 'b', 'c', 'd']\n",
    "o = pd.Series(l)\n",
    "p = pd.Series(m)\n",
    "o # a Series is a mutable indexed collection of a single data type\n",
    "p\n",
    "o.values # a numpy array\n",
    "o.index  # a range\n",
    "o # all Series will have an index"
   ]
  },
  {
   "cell_type": "code",
   "execution_count": 27,
   "id": "9e09f68e",
   "metadata": {},
   "outputs": [
    {
     "data": {
      "text/plain": [
       "b    6\n",
       "a    3\n",
       "c    9\n",
       "e    6\n",
       "d    2\n",
       "g    5\n",
       "dtype: int64"
      ]
     },
     "execution_count": 27,
     "metadata": {},
     "output_type": "execute_result"
    }
   ],
   "source": [
    "# Building Series with custom index\n",
    "vals = (4, 6, 3, 9, 6, 2, 5, 7)\n",
    "ind  = ('d', 'b', 'a', 'c', 'e', 'd', 'g', 'h')\n",
    "s=pd.Series(vals, index=ind)\n",
    "s['d'] # returns all matches\n",
    "# CAREFUL index slicing is [start:stop] (not stop-before)\n",
    "s['b':'g'] # access members by index (cannot use repeating index names)"
   ]
  },
  {
   "cell_type": "code",
   "execution_count": 25,
   "id": "39822b46",
   "metadata": {},
   "outputs": [],
   "source": [
    "s['c'] = s['c']/3"
   ]
  },
  {
   "cell_type": "code",
   "execution_count": 32,
   "id": "08469c60",
   "metadata": {},
   "outputs": [
    {
     "data": {
      "text/plain": [
       "6"
      ]
     },
     "execution_count": 32,
     "metadata": {},
     "output_type": "execute_result"
    }
   ],
   "source": [
    "# we can use the index or the ordinal position to access members of a Series\n",
    "s[1] # ordinal\n",
    "s['b'] # index"
   ]
  },
  {
   "cell_type": "code",
   "execution_count": 37,
   "id": "c77461be",
   "metadata": {},
   "outputs": [
    {
     "data": {
      "text/plain": [
       "d    4\n",
       "b    6\n",
       "a    3\n",
       "c    9\n",
       "e    6\n",
       "d    2\n",
       "g    5\n",
       "h    7\n",
       "i    2\n",
       "z   -3\n",
       "dtype: int64"
      ]
     },
     "execution_count": 37,
     "metadata": {},
     "output_type": "execute_result"
    }
   ],
   "source": [
    "# we can addd new members to a Series\n",
    "s['z'] = -3\n",
    "s['e'] = np.nan"
   ]
  },
  {
   "cell_type": "code",
   "execution_count": 40,
   "id": "e57b6dfe",
   "metadata": {},
   "outputs": [
    {
     "data": {
      "text/plain": [
       "d    2.000000\n",
       "b    2.449490\n",
       "a    1.732051\n",
       "c    3.000000\n",
       "e    2.449490\n",
       "d    1.414214\n",
       "g    2.236068\n",
       "h    2.645751\n",
       "i    1.414214\n",
       "z         NaN\n",
       "dtype: float64"
      ]
     },
     "execution_count": 40,
     "metadata": {},
     "output_type": "execute_result"
    }
   ],
   "source": [
    "# We can use logic to filter \n",
    "s[s>2]\n",
    "s[s<0]\n",
    "s**0.5 # NaN represents not a number (a numeric data type)"
   ]
  },
  {
   "cell_type": "code",
   "execution_count": null,
   "id": "f77ce494",
   "metadata": {},
   "outputs": [],
   "source": []
  }
 ],
 "metadata": {
  "kernelspec": {
   "display_name": "Python 3 (ipykernel)",
   "language": "python",
   "name": "python3"
  },
  "language_info": {
   "codemirror_mode": {
    "name": "ipython",
    "version": 3
   },
   "file_extension": ".py",
   "mimetype": "text/x-python",
   "name": "python",
   "nbconvert_exporter": "python",
   "pygments_lexer": "ipython3",
   "version": "3.9.12"
  }
 },
 "nbformat": 4,
 "nbformat_minor": 5
}
